{
 "cells": [
  {
   "cell_type": "code",
   "execution_count": 23,
   "metadata": {},
   "outputs": [
    {
     "name": "stderr",
     "output_type": "stream",
     "text": [
      "/usr/local/Cellar/python/3.7.6_1/Frameworks/Python.framework/Versions/3.7/lib/python3.7/importlib/_bootstrap.py:219: RuntimeWarning:\n",
      "\n",
      "numpy.ufunc size changed, may indicate binary incompatibility. Expected 192 from C header, got 216 from PyObject\n",
      "\n",
      "/usr/local/Cellar/python/3.7.6_1/Frameworks/Python.framework/Versions/3.7/lib/python3.7/importlib/_bootstrap.py:219: RuntimeWarning:\n",
      "\n",
      "numpy.ufunc size changed, may indicate binary incompatibility. Expected 192 from C header, got 216 from PyObject\n",
      "\n",
      "/usr/local/Cellar/python/3.7.6_1/Frameworks/Python.framework/Versions/3.7/lib/python3.7/importlib/_bootstrap.py:219: RuntimeWarning:\n",
      "\n",
      "numpy.ufunc size changed, may indicate binary incompatibility. Expected 192 from C header, got 216 from PyObject\n",
      "\n"
     ]
    }
   ],
   "source": [
    "import pandas as pd\n",
    "import numpy as np \n",
    "import matplotlib.pyplot as plt\n",
    "import seaborn as sns\n",
    "import plotly \n",
    "import plotly.graph_objects as go\n",
    "from sklearn.cluster import KMeans\n",
    "from sklearn.decomposition import PCA\n",
    "from sklearn.preprocessing import StandardScaler"
   ]
  },
  {
   "cell_type": "code",
   "execution_count": 2,
   "metadata": {},
   "outputs": [
    {
     "data": {
      "text/html": [
       "<div>\n",
       "<style scoped>\n",
       "    .dataframe tbody tr th:only-of-type {\n",
       "        vertical-align: middle;\n",
       "    }\n",
       "\n",
       "    .dataframe tbody tr th {\n",
       "        vertical-align: top;\n",
       "    }\n",
       "\n",
       "    .dataframe thead th {\n",
       "        text-align: right;\n",
       "    }\n",
       "</style>\n",
       "<table border=\"1\" class=\"dataframe\">\n",
       "  <thead>\n",
       "    <tr style=\"text-align: right;\">\n",
       "      <th></th>\n",
       "      <th>meanBytes</th>\n",
       "      <th>minBytes</th>\n",
       "      <th>maxBytes</th>\n",
       "      <th>medAbsDev</th>\n",
       "      <th>skewLength</th>\n",
       "      <th>kurtosisLength</th>\n",
       "      <th>q10</th>\n",
       "      <th>q20</th>\n",
       "      <th>q30</th>\n",
       "      <th>q40</th>\n",
       "      <th>...</th>\n",
       "      <th>q80</th>\n",
       "      <th>q90</th>\n",
       "      <th>spanOfGroup</th>\n",
       "      <th>meanTBP</th>\n",
       "      <th>varTBP</th>\n",
       "      <th>medianTBP</th>\n",
       "      <th>kurtosisTBP</th>\n",
       "      <th>skewTBP</th>\n",
       "      <th>device</th>\n",
       "      <th>state</th>\n",
       "    </tr>\n",
       "  </thead>\n",
       "  <tbody>\n",
       "    <tr>\n",
       "      <th>0</th>\n",
       "      <td>178.960938</td>\n",
       "      <td>46</td>\n",
       "      <td>1214</td>\n",
       "      <td>17.791227</td>\n",
       "      <td>2.865017</td>\n",
       "      <td>7.447516</td>\n",
       "      <td>50.0</td>\n",
       "      <td>54.0</td>\n",
       "      <td>54.0</td>\n",
       "      <td>62.0</td>\n",
       "      <td>...</td>\n",
       "      <td>150.0</td>\n",
       "      <td>346.0</td>\n",
       "      <td>94.438767</td>\n",
       "      <td>0.140395</td>\n",
       "      <td>0.356051</td>\n",
       "      <td>0.016966</td>\n",
       "      <td>90.120448</td>\n",
       "      <td>9.073159</td>\n",
       "      <td>yi-camera</td>\n",
       "      <td>power</td>\n",
       "    </tr>\n",
       "    <tr>\n",
       "      <th>1</th>\n",
       "      <td>165.726562</td>\n",
       "      <td>46</td>\n",
       "      <td>1214</td>\n",
       "      <td>23.721635</td>\n",
       "      <td>2.965653</td>\n",
       "      <td>8.123622</td>\n",
       "      <td>50.0</td>\n",
       "      <td>54.0</td>\n",
       "      <td>54.0</td>\n",
       "      <td>54.0</td>\n",
       "      <td>...</td>\n",
       "      <td>150.0</td>\n",
       "      <td>375.1</td>\n",
       "      <td>94.699045</td>\n",
       "      <td>0.241365</td>\n",
       "      <td>1.270754</td>\n",
       "      <td>0.015900</td>\n",
       "      <td>27.074528</td>\n",
       "      <td>5.380608</td>\n",
       "      <td>yi-camera</td>\n",
       "      <td>power</td>\n",
       "    </tr>\n",
       "    <tr>\n",
       "      <th>2</th>\n",
       "      <td>148.593750</td>\n",
       "      <td>46</td>\n",
       "      <td>1214</td>\n",
       "      <td>23.721635</td>\n",
       "      <td>3.806028</td>\n",
       "      <td>14.272252</td>\n",
       "      <td>50.0</td>\n",
       "      <td>54.0</td>\n",
       "      <td>54.0</td>\n",
       "      <td>62.0</td>\n",
       "      <td>...</td>\n",
       "      <td>150.0</td>\n",
       "      <td>304.7</td>\n",
       "      <td>94.451954</td>\n",
       "      <td>0.295708</td>\n",
       "      <td>1.370524</td>\n",
       "      <td>0.013464</td>\n",
       "      <td>24.338574</td>\n",
       "      <td>5.028079</td>\n",
       "      <td>yi-camera</td>\n",
       "      <td>power</td>\n",
       "    </tr>\n",
       "    <tr>\n",
       "      <th>3</th>\n",
       "      <td>187.367188</td>\n",
       "      <td>46</td>\n",
       "      <td>1214</td>\n",
       "      <td>17.791227</td>\n",
       "      <td>2.602090</td>\n",
       "      <td>6.051579</td>\n",
       "      <td>54.0</td>\n",
       "      <td>54.0</td>\n",
       "      <td>54.0</td>\n",
       "      <td>65.2</td>\n",
       "      <td>...</td>\n",
       "      <td>150.0</td>\n",
       "      <td>457.4</td>\n",
       "      <td>94.699169</td>\n",
       "      <td>0.117183</td>\n",
       "      <td>0.398694</td>\n",
       "      <td>0.009831</td>\n",
       "      <td>102.365185</td>\n",
       "      <td>9.884175</td>\n",
       "      <td>yi-camera</td>\n",
       "      <td>power</td>\n",
       "    </tr>\n",
       "    <tr>\n",
       "      <th>4</th>\n",
       "      <td>177.187500</td>\n",
       "      <td>46</td>\n",
       "      <td>1214</td>\n",
       "      <td>23.721635</td>\n",
       "      <td>2.814351</td>\n",
       "      <td>6.727281</td>\n",
       "      <td>50.0</td>\n",
       "      <td>54.0</td>\n",
       "      <td>54.0</td>\n",
       "      <td>54.0</td>\n",
       "      <td>...</td>\n",
       "      <td>150.0</td>\n",
       "      <td>375.1</td>\n",
       "      <td>93.697956</td>\n",
       "      <td>0.256762</td>\n",
       "      <td>1.286913</td>\n",
       "      <td>0.011779</td>\n",
       "      <td>26.047730</td>\n",
       "      <td>5.249770</td>\n",
       "      <td>yi-camera</td>\n",
       "      <td>power</td>\n",
       "    </tr>\n",
       "  </tbody>\n",
       "</table>\n",
       "<p>5 rows × 23 columns</p>\n",
       "</div>"
      ],
      "text/plain": [
       "    meanBytes  minBytes  maxBytes  medAbsDev  skewLength  kurtosisLength  \\\n",
       "0  178.960938        46      1214  17.791227    2.865017        7.447516   \n",
       "1  165.726562        46      1214  23.721635    2.965653        8.123622   \n",
       "2  148.593750        46      1214  23.721635    3.806028       14.272252   \n",
       "3  187.367188        46      1214  17.791227    2.602090        6.051579   \n",
       "4  177.187500        46      1214  23.721635    2.814351        6.727281   \n",
       "\n",
       "    q10   q20   q30   q40  ...    q80    q90  spanOfGroup   meanTBP    varTBP  \\\n",
       "0  50.0  54.0  54.0  62.0  ...  150.0  346.0    94.438767  0.140395  0.356051   \n",
       "1  50.0  54.0  54.0  54.0  ...  150.0  375.1    94.699045  0.241365  1.270754   \n",
       "2  50.0  54.0  54.0  62.0  ...  150.0  304.7    94.451954  0.295708  1.370524   \n",
       "3  54.0  54.0  54.0  65.2  ...  150.0  457.4    94.699169  0.117183  0.398694   \n",
       "4  50.0  54.0  54.0  54.0  ...  150.0  375.1    93.697956  0.256762  1.286913   \n",
       "\n",
       "   medianTBP  kurtosisTBP   skewTBP     device  state  \n",
       "0   0.016966    90.120448  9.073159  yi-camera  power  \n",
       "1   0.015900    27.074528  5.380608  yi-camera  power  \n",
       "2   0.013464    24.338574  5.028079  yi-camera  power  \n",
       "3   0.009831   102.365185  9.884175  yi-camera  power  \n",
       "4   0.011779    26.047730  5.249770  yi-camera  power  \n",
       "\n",
       "[5 rows x 23 columns]"
      ]
     },
     "execution_count": 2,
     "metadata": {},
     "output_type": "execute_result"
    }
   ],
   "source": [
    "feature_set = pd.read_csv(r\"/Users/abhijit/Desktop/GIT_Projects/intl-iot/features/us/yi-camera.csv\")\n",
    "feature_set.head()"
   ]
  },
  {
   "cell_type": "code",
   "execution_count": 4,
   "metadata": {},
   "outputs": [
    {
     "data": {
      "text/plain": [
       "android_lan_recording    440\n",
       "android_lan_photo        430\n",
       "android_wan_recording    400\n",
       "android_wan_watch        400\n",
       "android_wan_photo        400\n",
       "android_lan_watch        370\n",
       "power                     30\n",
       "local_move                20\n",
       "Name: state, dtype: int64"
      ]
     },
     "execution_count": 4,
     "metadata": {},
     "output_type": "execute_result"
    }
   ],
   "source": [
    "feature_set.state.value_counts()"
   ]
  },
  {
   "cell_type": "code",
   "execution_count": 8,
   "metadata": {},
   "outputs": [
    {
     "data": {
      "text/html": [
       "<div>\n",
       "<style scoped>\n",
       "    .dataframe tbody tr th:only-of-type {\n",
       "        vertical-align: middle;\n",
       "    }\n",
       "\n",
       "    .dataframe tbody tr th {\n",
       "        vertical-align: top;\n",
       "    }\n",
       "\n",
       "    .dataframe thead th {\n",
       "        text-align: right;\n",
       "    }\n",
       "</style>\n",
       "<table border=\"1\" class=\"dataframe\">\n",
       "  <thead>\n",
       "    <tr style=\"text-align: right;\">\n",
       "      <th></th>\n",
       "      <th>meanBytes</th>\n",
       "      <th>minBytes</th>\n",
       "      <th>maxBytes</th>\n",
       "      <th>medAbsDev</th>\n",
       "      <th>skewLength</th>\n",
       "      <th>kurtosisLength</th>\n",
       "      <th>q10</th>\n",
       "      <th>q20</th>\n",
       "      <th>q30</th>\n",
       "      <th>q40</th>\n",
       "      <th>...</th>\n",
       "      <th>q60</th>\n",
       "      <th>q70</th>\n",
       "      <th>q80</th>\n",
       "      <th>q90</th>\n",
       "      <th>spanOfGroup</th>\n",
       "      <th>meanTBP</th>\n",
       "      <th>varTBP</th>\n",
       "      <th>medianTBP</th>\n",
       "      <th>kurtosisTBP</th>\n",
       "      <th>skewTBP</th>\n",
       "    </tr>\n",
       "  </thead>\n",
       "  <tbody>\n",
       "    <tr>\n",
       "      <th>0</th>\n",
       "      <td>178.960938</td>\n",
       "      <td>46</td>\n",
       "      <td>1214</td>\n",
       "      <td>17.791227</td>\n",
       "      <td>2.865017</td>\n",
       "      <td>7.447516</td>\n",
       "      <td>50.0</td>\n",
       "      <td>54.0</td>\n",
       "      <td>54.0</td>\n",
       "      <td>62.0</td>\n",
       "      <td>...</td>\n",
       "      <td>74.0</td>\n",
       "      <td>123.0</td>\n",
       "      <td>150.0</td>\n",
       "      <td>346.0</td>\n",
       "      <td>94.438767</td>\n",
       "      <td>0.140395</td>\n",
       "      <td>0.356051</td>\n",
       "      <td>0.016966</td>\n",
       "      <td>90.120448</td>\n",
       "      <td>9.073159</td>\n",
       "    </tr>\n",
       "    <tr>\n",
       "      <th>1</th>\n",
       "      <td>165.726562</td>\n",
       "      <td>46</td>\n",
       "      <td>1214</td>\n",
       "      <td>23.721635</td>\n",
       "      <td>2.965653</td>\n",
       "      <td>8.123622</td>\n",
       "      <td>50.0</td>\n",
       "      <td>54.0</td>\n",
       "      <td>54.0</td>\n",
       "      <td>54.0</td>\n",
       "      <td>...</td>\n",
       "      <td>77.0</td>\n",
       "      <td>123.0</td>\n",
       "      <td>150.0</td>\n",
       "      <td>375.1</td>\n",
       "      <td>94.699045</td>\n",
       "      <td>0.241365</td>\n",
       "      <td>1.270754</td>\n",
       "      <td>0.015900</td>\n",
       "      <td>27.074528</td>\n",
       "      <td>5.380608</td>\n",
       "    </tr>\n",
       "    <tr>\n",
       "      <th>2</th>\n",
       "      <td>148.593750</td>\n",
       "      <td>46</td>\n",
       "      <td>1214</td>\n",
       "      <td>23.721635</td>\n",
       "      <td>3.806028</td>\n",
       "      <td>14.272252</td>\n",
       "      <td>50.0</td>\n",
       "      <td>54.0</td>\n",
       "      <td>54.0</td>\n",
       "      <td>62.0</td>\n",
       "      <td>...</td>\n",
       "      <td>70.8</td>\n",
       "      <td>129.3</td>\n",
       "      <td>150.0</td>\n",
       "      <td>304.7</td>\n",
       "      <td>94.451954</td>\n",
       "      <td>0.295708</td>\n",
       "      <td>1.370524</td>\n",
       "      <td>0.013464</td>\n",
       "      <td>24.338574</td>\n",
       "      <td>5.028079</td>\n",
       "    </tr>\n",
       "    <tr>\n",
       "      <th>3</th>\n",
       "      <td>187.367188</td>\n",
       "      <td>46</td>\n",
       "      <td>1214</td>\n",
       "      <td>17.791227</td>\n",
       "      <td>2.602090</td>\n",
       "      <td>6.051579</td>\n",
       "      <td>54.0</td>\n",
       "      <td>54.0</td>\n",
       "      <td>54.0</td>\n",
       "      <td>65.2</td>\n",
       "      <td>...</td>\n",
       "      <td>77.0</td>\n",
       "      <td>143.5</td>\n",
       "      <td>150.0</td>\n",
       "      <td>457.4</td>\n",
       "      <td>94.699169</td>\n",
       "      <td>0.117183</td>\n",
       "      <td>0.398694</td>\n",
       "      <td>0.009831</td>\n",
       "      <td>102.365185</td>\n",
       "      <td>9.884175</td>\n",
       "    </tr>\n",
       "    <tr>\n",
       "      <th>4</th>\n",
       "      <td>177.187500</td>\n",
       "      <td>46</td>\n",
       "      <td>1214</td>\n",
       "      <td>23.721635</td>\n",
       "      <td>2.814351</td>\n",
       "      <td>6.727281</td>\n",
       "      <td>50.0</td>\n",
       "      <td>54.0</td>\n",
       "      <td>54.0</td>\n",
       "      <td>54.0</td>\n",
       "      <td>...</td>\n",
       "      <td>74.0</td>\n",
       "      <td>93.0</td>\n",
       "      <td>150.0</td>\n",
       "      <td>375.1</td>\n",
       "      <td>93.697956</td>\n",
       "      <td>0.256762</td>\n",
       "      <td>1.286913</td>\n",
       "      <td>0.011779</td>\n",
       "      <td>26.047730</td>\n",
       "      <td>5.249770</td>\n",
       "    </tr>\n",
       "  </tbody>\n",
       "</table>\n",
       "<p>5 rows × 21 columns</p>\n",
       "</div>"
      ],
      "text/plain": [
       "    meanBytes  minBytes  maxBytes  medAbsDev  skewLength  kurtosisLength  \\\n",
       "0  178.960938        46      1214  17.791227    2.865017        7.447516   \n",
       "1  165.726562        46      1214  23.721635    2.965653        8.123622   \n",
       "2  148.593750        46      1214  23.721635    3.806028       14.272252   \n",
       "3  187.367188        46      1214  17.791227    2.602090        6.051579   \n",
       "4  177.187500        46      1214  23.721635    2.814351        6.727281   \n",
       "\n",
       "    q10   q20   q30   q40  ...   q60    q70    q80    q90  spanOfGroup  \\\n",
       "0  50.0  54.0  54.0  62.0  ...  74.0  123.0  150.0  346.0    94.438767   \n",
       "1  50.0  54.0  54.0  54.0  ...  77.0  123.0  150.0  375.1    94.699045   \n",
       "2  50.0  54.0  54.0  62.0  ...  70.8  129.3  150.0  304.7    94.451954   \n",
       "3  54.0  54.0  54.0  65.2  ...  77.0  143.5  150.0  457.4    94.699169   \n",
       "4  50.0  54.0  54.0  54.0  ...  74.0   93.0  150.0  375.1    93.697956   \n",
       "\n",
       "    meanTBP    varTBP  medianTBP  kurtosisTBP   skewTBP  \n",
       "0  0.140395  0.356051   0.016966    90.120448  9.073159  \n",
       "1  0.241365  1.270754   0.015900    27.074528  5.380608  \n",
       "2  0.295708  1.370524   0.013464    24.338574  5.028079  \n",
       "3  0.117183  0.398694   0.009831   102.365185  9.884175  \n",
       "4  0.256762  1.286913   0.011779    26.047730  5.249770  \n",
       "\n",
       "[5 rows x 21 columns]"
      ]
     },
     "execution_count": 8,
     "metadata": {},
     "output_type": "execute_result"
    }
   ],
   "source": [
    "feature_values = feature_set.drop(['device','state'],axis=1)\n",
    "feature_values.head()"
   ]
  },
  {
   "cell_type": "code",
   "execution_count": 11,
   "metadata": {},
   "outputs": [
    {
     "data": {
      "image/png": "[encoded data removed]",
      "text/plain": [
       "<Figure size 432x288 with 2 Axes>"
      ]
     },
     "metadata": {
      "needs_background": "light"
     },
     "output_type": "display_data"
    }
   ],
   "source": [
    "corr = feature_values.corr()\n",
    "ax = sns.heatmap(\n",
    "    corr, \n",
    "    vmin=-1, vmax=1, center=0,\n",
    "    cmap=sns.diverging_palette(20, 220, n=200),\n",
    "    square=True\n",
    ")\n",
    "ax.set_xticklabels(\n",
    "    ax.get_xticklabels(),\n",
    "    rotation=45,\n",
    "    horizontalalignment='right'\n",
    ");"
   ]
  },
  {
   "cell_type": "code",
   "execution_count": 24,
   "metadata": {},
   "outputs": [
    {
     "data": {
      "image/png": "[encoded data removed]",
      "text/plain": [
       "<Figure size 432x288 with 1 Axes>"
      ]
     },
     "metadata": {
      "needs_background": "light"
     },
     "output_type": "display_data"
    }
   ],
   "source": [
    "X_std = StandardScaler().fit_transform(feature_values)\n",
    "# Create a PCA instance: pca\n",
    "pca = PCA(n_components=20)\n",
    "principalComponents = pca.fit_transform(X_std)\n",
    "# Plot the explained variances\n",
    "features = range(pca.n_components_)\n",
    "plt.bar(features, pca.explained_variance_ratio_, color='black')\n",
    "plt.xlabel('PCA features')\n",
    "plt.ylabel('variance %')\n",
    "plt.xticks(features)\n",
    "# Save components to a DataFrame\n",
    "PCA_components = pd.DataFrame(principalComponents)"
   ]
  },
  {
   "cell_type": "code",
   "execution_count": 21,
   "metadata": {},
   "outputs": [
    {
     "data": {
      "text/plain": [
       "array([4.77180065e-01, 2.11665759e-01, 7.72720083e-02, 7.56785990e-02,\n",
       "       5.05604921e-02, 3.95291175e-02, 2.97949590e-02, 1.47839573e-02,\n",
       "       8.52889754e-03, 5.09573568e-03, 2.72255273e-03, 2.50209508e-03,\n",
       "       1.75744258e-03, 9.33600849e-04, 8.34775748e-04, 5.50025063e-04,\n",
       "       2.74022849e-04, 2.62176162e-04, 3.83524896e-05, 2.26775069e-05])"
      ]
     },
     "execution_count": 21,
     "metadata": {},
     "output_type": "execute_result"
    }
   ],
   "source": [
    "pca.explained_variance_ratio_"
   ]
  },
  {
   "cell_type": "code",
   "execution_count": null,
   "metadata": {},
   "outputs": [],
   "source": [
    "arr.argsort()[-3:][::-1]"
   ]
  },
  {
   "cell_type": "code",
   "execution_count": 18,
   "metadata": {},
   "outputs": [
    {
     "name": "stdout",
     "output_type": "stream",
     "text": [
      "[array([ 0, 11, 13, 12, 14]), array([16,  8,  1, 17,  7]), array([20, 19,  9,  8, 10]), array([15,  6,  7,  2,  1])]\n"
     ]
    }
   ],
   "source": [
    "top_4_variable_explanation = abs(pca.components_[:4])\n",
    "arr = []\n",
    "for n in top_4_variable_explanation:\n",
    "    top = n.argsort()[-5:][::-1]\n",
    "    arr.append(top)\n",
    "print(arr)"
   ]
  },
  {
   "cell_type": "code",
   "execution_count": 20,
   "metadata": {},
   "outputs": [
    {
     "name": "stdout",
     "output_type": "stream",
     "text": [
      "0 meanBytes\n",
      "1 minBytes\n",
      "2 maxBytes\n",
      "3 medAbsDev\n",
      "4 skewLength\n",
      "5 kurtosisLength\n",
      "6 q10\n",
      "7 q20\n",
      "8 q30\n",
      "9 q40\n",
      "10 q50\n",
      "11 q60\n",
      "12 q70\n",
      "13 q80\n",
      "14 q90\n",
      "15 spanOfGroup\n",
      "16 meanTBP\n",
      "17 varTBP\n",
      "18 medianTBP\n",
      "19 kurtosisTBP\n",
      "20 skewTBP\n"
     ]
    }
   ],
   "source": [
    "for n,i in enumerate(feature_values):\n",
    "    print(n,i)"
   ]
  },
  {
   "cell_type": "code",
   "execution_count": 25,
   "metadata": {},
   "outputs": [
    {
     "data": {
      "text/plain": [
       "Text(0, 0.5, 'PCA 2')"
      ]
     },
     "execution_count": 25,
     "metadata": {},
     "output_type": "execute_result"
    },
    {
     "data": {
      "image/png": "[encoded data removed]",
      "text/plain": [
       "<Figure size 432x288 with 1 Axes>"
      ]
     },
     "metadata": {
      "needs_background": "light"
     },
     "output_type": "display_data"
    }
   ],
   "source": [
    "plt.scatter(PCA_components[0], PCA_components[1], alpha=.1, color='black')\n",
    "plt.xlabel('PCA 1')\n",
    "plt.ylabel('PCA 2')"
   ]
  },
  {
   "cell_type": "markdown",
   "metadata": {},
   "source": [
    "## Pre PCA"
   ]
  },
  {
   "cell_type": "code",
   "execution_count": 12,
   "metadata": {},
   "outputs": [
    {
     "data": {
      "image/png": "[encoded data removed]",
      "text/plain": [
       "<Figure size 432x288 with 1 Axes>"
      ]
     },
     "metadata": {
      "needs_background": "light"
     },
     "output_type": "display_data"
    }
   ],
   "source": [
    "ks = range(1, 10)\n",
    "inertias = []\n",
    "for k in ks:\n",
    "    # Create a KMeans instance with k clusters: model\n",
    "    model = KMeans(n_clusters=k)\n",
    "    \n",
    "    # Fit model to samples\n",
    "    model.fit(feature_values.iloc[:,:20])\n",
    "    \n",
    "    # Append the inertia to the list of inertias\n",
    "    inertias.append(model.inertia_)\n",
    "    \n",
    "plt.plot(ks, inertias, '-o', color='black')\n",
    "plt.xlabel('number of clusters, k')\n",
    "plt.ylabel('inertia')\n",
    "plt.xticks(ks)\n",
    "plt.show()"
   ]
  },
  {
   "cell_type": "markdown",
   "metadata": {},
   "source": [
    "## Post PCA"
   ]
  },
  {
   "cell_type": "code",
   "execution_count": 26,
   "metadata": {},
   "outputs": [
    {
     "data": {
      "image/png": "[encoded data removed]",
      "text/plain": [
       "<Figure size 432x288 with 1 Axes>"
      ]
     },
     "metadata": {
      "needs_background": "light"
     },
     "output_type": "display_data"
    }
   ],
   "source": [
    "ks = range(1, 10)\n",
    "inertias = []\n",
    "for k in ks:\n",
    "    # Create a KMeans instance with k clusters: model\n",
    "    model = KMeans(n_clusters=k)\n",
    "    \n",
    "    # Fit model to samples\n",
    "    model.fit(PCA_components.iloc[:,:5])\n",
    "    \n",
    "    # Append the inertia to the list of inertias\n",
    "    inertias.append(model.inertia_)\n",
    "    \n",
    "plt.plot(ks, inertias, '-o', color='black')\n",
    "plt.xlabel('number of clusters, k')\n",
    "plt.ylabel('inertia')\n",
    "plt.xticks(ks)\n",
    "plt.show()"
   ]
  },
  {
   "cell_type": "code",
   "execution_count": null,
   "metadata": {},
   "outputs": [],
   "source": []
  }
 ],
 "metadata": {
  "kernelspec": {
   "display_name": "Python 3",
   "language": "python",
   "name": "python3"
  },
  "language_info": {
   "codemirror_mode": {
    "name": "ipython",
    "version": 3
   },
   "file_extension": ".py",
   "mimetype": "text/x-python",
   "name": "python",
   "nbconvert_exporter": "python",
   "pygments_lexer": "ipython3",
   "version": "3.7.6"
  }
 },
 "nbformat": 4,
 "nbformat_minor": 1
}
