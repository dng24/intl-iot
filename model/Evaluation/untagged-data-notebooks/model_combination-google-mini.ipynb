{
 "cells": [
  {
   "cell_type": "code",
   "execution_count": 1,
   "metadata": {},
   "outputs": [],
   "source": [
    "import pandas as pd \n",
    "import numpy as np \n",
    "import sklearn as skl \n",
    "from sklearn.cluster import DBSCAN\n",
    "from sklearn.manifold import TSNE\n",
    "from sklearn.metrics.cluster import homogeneity_score\n",
    "from sklearn.metrics.cluster import completeness_score\n",
    "from sklearn.metrics.cluster import v_measure_score\n",
    "from sklearn.metrics.cluster import adjusted_rand_score\n",
    "from sklearn.metrics import silhouette_score\n",
    "from sklearn.metrics import accuracy_score\n",
    "from sklearn.model_selection import train_test_split\n",
    "from sklearn.decomposition import PCA\n",
    "from sklearn.preprocessing import StandardScaler\n",
    "from sklearn.preprocessing import LabelBinarizer\n",
    "import time\n",
    "import warnings\n",
    "import os\n",
    "import seaborn as sns # for ploting\n",
    "from sklearn.metrics import fbeta_score, precision_score, recall_score, confusion_matrix,f1_score\n",
    "import itertools\n",
    "import pickle\n",
    "import matplotlib\n",
    "from matplotlib import pyplot as plt,style\n",
    "from multiprocessing import Pool"
   ]
  },
  {
   "cell_type": "code",
   "execution_count": 2,
   "metadata": {},
   "outputs": [],
   "source": [
    "style.use('ggplot')\n",
    "np.random.seed(42) \n",
    "\n",
    "def plot_confusion_matrix(cm, classes,\n",
    "                          recall,precision,f2,f1,\n",
    "                          normalize=False,\n",
    "                          title='Confusion matrix',\n",
    "                          cmap=plt.cm.Blues):\n",
    "    plt.figure()\n",
    "    plt.imshow(cm, interpolation='nearest', cmap=cmap)\n",
    "    plt.title(title)\n",
    "    plt.colorbar()\n",
    "    tick_marks = np.arange(len(classes))\n",
    "    plt.xticks(tick_marks, classes, rotation=0)\n",
    "    plt.yticks(tick_marks, classes)\n",
    "\n",
    "    thresh = cm.max() / 2.\n",
    "    for i, j in itertools.product(range(cm.shape[0]), range(cm.shape[1])):\n",
    "        plt.text(j, i, cm[i, j],\n",
    "                 horizontalalignment=\"center\",\n",
    "                 color=\"white\" if cm[i, j] > thresh else \"black\")\n",
    "\n",
    "    plt.tight_layout()\n",
    "    plt.ylabel('True label')\n",
    "    plt.xlabel('Predicted label')\n",
    "    plt.xticks(rotation=90)\n",
    "    plt.text(12,0, f\" Recall:{recall},\\n Precision:{precision},\\n F2 Score:{f2},\\n F1 Score:{f1}\", fontsize=12)\n",
    "    plt.show()"
   ]
  },
  {
   "cell_type": "code",
   "execution_count": 3,
   "metadata": {},
   "outputs": [
    {
     "data": {
      "text/markdown": [
       "# Loading the data. \n"
      ],
      "text/plain": [
       "<IPython.core.display.Markdown object>"
      ]
     },
     "metadata": {},
     "output_type": "display_data"
    }
   ],
   "source": [
    "%%markdown\n",
    "# Loading the data. "
   ]
  },
  {
   "cell_type": "code",
   "execution_count": 4,
   "metadata": {},
   "outputs": [],
   "source": [
    "warnings.simplefilter(\"ignore\", category=DeprecationWarning)\n",
    "\n",
    "root_feature = '/Volumes/Abhijit-Seagate/Data_iot/Features/required-features-split/google-home-mini-req-april.csv'\n",
    "root_model='/Users/abhijit/Desktop/GIT_Projects/intl-iot/models_final/features-testing1.1/us'\n",
    "\n",
    "root_output=root_model+'/output'\n",
    "dir_tsne_plots = root_model + '/tsne-plots'\n",
    "\n",
    "num_pools=12"
   ]
  },
  {
   "cell_type": "code",
   "execution_count": 5,
   "metadata": {},
   "outputs": [
    {
     "data": {
      "text/markdown": [
       "## Loading anomaly dataset\n"
      ],
      "text/plain": [
       "<IPython.core.display.Markdown object>"
      ]
     },
     "metadata": {},
     "output_type": "display_data"
    }
   ],
   "source": [
    "%%markdown\n",
    "## Loading anomaly dataset"
   ]
  },
  {
   "cell_type": "code",
   "execution_count": 8,
   "metadata": {},
   "outputs": [
    {
     "data": {
      "text/html": [
       "<div>\n",
       "<style scoped>\n",
       "    .dataframe tbody tr th:only-of-type {\n",
       "        vertical-align: middle;\n",
       "    }\n",
       "\n",
       "    .dataframe tbody tr th {\n",
       "        vertical-align: top;\n",
       "    }\n",
       "\n",
       "    .dataframe thead th {\n",
       "        text-align: right;\n",
       "    }\n",
       "</style>\n",
       "<table border=\"1\" class=\"dataframe\">\n",
       "  <thead>\n",
       "    <tr style=\"text-align: right;\">\n",
       "      <th></th>\n",
       "      <th>start_time</th>\n",
       "      <th>end_time</th>\n",
       "      <th>meanBytes</th>\n",
       "      <th>minBytes</th>\n",
       "      <th>maxBytes</th>\n",
       "      <th>medAbsDev</th>\n",
       "      <th>skewLength</th>\n",
       "      <th>kurtosisLength</th>\n",
       "      <th>q10</th>\n",
       "      <th>q20</th>\n",
       "      <th>...</th>\n",
       "      <th>kurtosisTBP</th>\n",
       "      <th>skewTBP</th>\n",
       "      <th>network_to</th>\n",
       "      <th>network_from</th>\n",
       "      <th>network_both</th>\n",
       "      <th>network_to_external</th>\n",
       "      <th>network_local</th>\n",
       "      <th>anonymous_source_destination</th>\n",
       "      <th>device</th>\n",
       "      <th>state</th>\n",
       "    </tr>\n",
       "  </thead>\n",
       "  <tbody>\n",
       "    <tr>\n",
       "      <td>0</td>\n",
       "      <td>1.554888e+09</td>\n",
       "      <td>1.554888e+09</td>\n",
       "      <td>59.490196</td>\n",
       "      <td>46</td>\n",
       "      <td>62</td>\n",
       "      <td>0.0</td>\n",
       "      <td>-1.887074</td>\n",
       "      <td>1.561047</td>\n",
       "      <td>46.0</td>\n",
       "      <td>62.0</td>\n",
       "      <td>...</td>\n",
       "      <td>-1.304688</td>\n",
       "      <td>0.777298</td>\n",
       "      <td>0</td>\n",
       "      <td>0</td>\n",
       "      <td>0</td>\n",
       "      <td>51</td>\n",
       "      <td>0</td>\n",
       "      <td>0</td>\n",
       "      <td>google-home-mini-req</td>\n",
       "      <td>untagged</td>\n",
       "    </tr>\n",
       "    <tr>\n",
       "      <td>1</td>\n",
       "      <td>1.554888e+09</td>\n",
       "      <td>1.554888e+09</td>\n",
       "      <td>59.647059</td>\n",
       "      <td>46</td>\n",
       "      <td>66</td>\n",
       "      <td>0.0</td>\n",
       "      <td>-1.807086</td>\n",
       "      <td>1.450577</td>\n",
       "      <td>46.0</td>\n",
       "      <td>62.0</td>\n",
       "      <td>...</td>\n",
       "      <td>-0.203870</td>\n",
       "      <td>0.763847</td>\n",
       "      <td>0</td>\n",
       "      <td>0</td>\n",
       "      <td>0</td>\n",
       "      <td>51</td>\n",
       "      <td>0</td>\n",
       "      <td>0</td>\n",
       "      <td>google-home-mini-req</td>\n",
       "      <td>untagged</td>\n",
       "    </tr>\n",
       "    <tr>\n",
       "      <td>2</td>\n",
       "      <td>1.554888e+09</td>\n",
       "      <td>1.554888e+09</td>\n",
       "      <td>60.117647</td>\n",
       "      <td>46</td>\n",
       "      <td>62</td>\n",
       "      <td>0.0</td>\n",
       "      <td>-2.373464</td>\n",
       "      <td>3.633333</td>\n",
       "      <td>46.0</td>\n",
       "      <td>62.0</td>\n",
       "      <td>...</td>\n",
       "      <td>-0.638891</td>\n",
       "      <td>0.593621</td>\n",
       "      <td>0</td>\n",
       "      <td>0</td>\n",
       "      <td>0</td>\n",
       "      <td>51</td>\n",
       "      <td>0</td>\n",
       "      <td>0</td>\n",
       "      <td>google-home-mini-req</td>\n",
       "      <td>untagged</td>\n",
       "    </tr>\n",
       "    <tr>\n",
       "      <td>3</td>\n",
       "      <td>1.554888e+09</td>\n",
       "      <td>1.554888e+09</td>\n",
       "      <td>62.000000</td>\n",
       "      <td>46</td>\n",
       "      <td>66</td>\n",
       "      <td>0.0</td>\n",
       "      <td>-4.790616</td>\n",
       "      <td>30.150000</td>\n",
       "      <td>62.0</td>\n",
       "      <td>62.0</td>\n",
       "      <td>...</td>\n",
       "      <td>-1.773284</td>\n",
       "      <td>0.096325</td>\n",
       "      <td>0</td>\n",
       "      <td>0</td>\n",
       "      <td>0</td>\n",
       "      <td>51</td>\n",
       "      <td>0</td>\n",
       "      <td>0</td>\n",
       "      <td>google-home-mini-req</td>\n",
       "      <td>untagged</td>\n",
       "    </tr>\n",
       "    <tr>\n",
       "      <td>4</td>\n",
       "      <td>1.554888e+09</td>\n",
       "      <td>1.554888e+09</td>\n",
       "      <td>60.431373</td>\n",
       "      <td>46</td>\n",
       "      <td>62</td>\n",
       "      <td>0.0</td>\n",
       "      <td>-2.703460</td>\n",
       "      <td>5.308696</td>\n",
       "      <td>62.0</td>\n",
       "      <td>62.0</td>\n",
       "      <td>...</td>\n",
       "      <td>-0.943390</td>\n",
       "      <td>0.361195</td>\n",
       "      <td>0</td>\n",
       "      <td>0</td>\n",
       "      <td>0</td>\n",
       "      <td>51</td>\n",
       "      <td>0</td>\n",
       "      <td>0</td>\n",
       "      <td>google-home-mini-req</td>\n",
       "      <td>untagged</td>\n",
       "    </tr>\n",
       "  </tbody>\n",
       "</table>\n",
       "<p>5 rows × 31 columns</p>\n",
       "</div>"
      ],
      "text/plain": [
       "     start_time      end_time  meanBytes  minBytes  maxBytes  medAbsDev  \\\n",
       "0  1.554888e+09  1.554888e+09  59.490196        46        62        0.0   \n",
       "1  1.554888e+09  1.554888e+09  59.647059        46        66        0.0   \n",
       "2  1.554888e+09  1.554888e+09  60.117647        46        62        0.0   \n",
       "3  1.554888e+09  1.554888e+09  62.000000        46        66        0.0   \n",
       "4  1.554888e+09  1.554888e+09  60.431373        46        62        0.0   \n",
       "\n",
       "   skewLength  kurtosisLength   q10   q20  ...  kurtosisTBP   skewTBP  \\\n",
       "0   -1.887074        1.561047  46.0  62.0  ...    -1.304688  0.777298   \n",
       "1   -1.807086        1.450577  46.0  62.0  ...    -0.203870  0.763847   \n",
       "2   -2.373464        3.633333  46.0  62.0  ...    -0.638891  0.593621   \n",
       "3   -4.790616       30.150000  62.0  62.0  ...    -1.773284  0.096325   \n",
       "4   -2.703460        5.308696  62.0  62.0  ...    -0.943390  0.361195   \n",
       "\n",
       "   network_to  network_from  network_both  network_to_external  network_local  \\\n",
       "0           0             0             0                   51              0   \n",
       "1           0             0             0                   51              0   \n",
       "2           0             0             0                   51              0   \n",
       "3           0             0             0                   51              0   \n",
       "4           0             0             0                   51              0   \n",
       "\n",
       "   anonymous_source_destination                device     state  \n",
       "0                             0  google-home-mini-req  untagged  \n",
       "1                             0  google-home-mini-req  untagged  \n",
       "2                             0  google-home-mini-req  untagged  \n",
       "3                             0  google-home-mini-req  untagged  \n",
       "4                             0  google-home-mini-req  untagged  \n",
       "\n",
       "[5 rows x 31 columns]"
      ]
     },
     "execution_count": 8,
     "metadata": {},
     "output_type": "execute_result"
    }
   ],
   "source": [
    "anomaly_data = pd.read_csv('/Volumes/Abhijit-Seagate/Data_iot/Features/features-regular-split/google-home-mini-req.csv')\n",
    "#anomaly_data = anomaly_data.drop(anomaly_data.columns[0],axis=1)\n",
    "anomaly_data.head()"
   ]
  },
  {
   "cell_type": "code",
   "execution_count": 9,
   "metadata": {},
   "outputs": [
    {
     "data": {
      "text/plain": [
       "Index(['start_time', 'end_time', 'meanBytes', 'minBytes', 'maxBytes',\n",
       "       'medAbsDev', 'skewLength', 'kurtosisLength', 'q10', 'q20', 'q30', 'q40',\n",
       "       'q50', 'q60', 'q70', 'q80', 'q90', 'spanOfGroup', 'meanTBP', 'varTBP',\n",
       "       'medianTBP', 'kurtosisTBP', 'skewTBP', 'network_to', 'network_from',\n",
       "       'network_both', 'network_to_external', 'network_local',\n",
       "       'anonymous_source_destination', 'device', 'state'],\n",
       "      dtype='object')"
      ]
     },
     "execution_count": 9,
     "metadata": {},
     "output_type": "execute_result"
    }
   ],
   "source": [
    "anomaly_data.columns"
   ]
  },
  {
   "cell_type": "code",
   "execution_count": 10,
   "metadata": {},
   "outputs": [
    {
     "data": {
      "text/plain": [
       "untagged    1935920\n",
       "Name: state, dtype: int64"
      ]
     },
     "execution_count": 10,
     "metadata": {},
     "output_type": "execute_result"
    }
   ],
   "source": [
    "anomaly_data.state.value_counts()"
   ]
  },
  {
   "cell_type": "code",
   "execution_count": 11,
   "metadata": {},
   "outputs": [
    {
     "data": {
      "text/markdown": [
       "\n",
       "# Loading old model\n"
      ],
      "text/plain": [
       "<IPython.core.display.Markdown object>"
      ]
     },
     "metadata": {},
     "output_type": "display_data"
    }
   ],
   "source": [
    "%%markdown\n",
    "\n",
    "# Loading old model"
   ]
  },
  {
   "cell_type": "code",
   "execution_count": 12,
   "metadata": {},
   "outputs": [],
   "source": [
    "original_model = pickle.load(open('/Volumes/Abhijit-Seagate/Data_iot/models/new-tagged-models/knn/google-home-miniknn.model','rb'))"
   ]
  },
  {
   "cell_type": "code",
   "execution_count": 13,
   "metadata": {},
   "outputs": [],
   "source": [
    "labels = []\n",
    "with open('/Volumes/Abhijit-Seagate/Data_iot/models/tagged-models/knn/google-home-mini.label.txt') as ff:\n",
    "    for line in ff.readlines():\n",
    "        line = line.strip()\n",
    "        if line.startswith('#') or line == '':\n",
    "            continue\n",
    "        labels.append(line)"
   ]
  },
  {
   "cell_type": "code",
   "execution_count": 14,
   "metadata": {},
   "outputs": [
    {
     "data": {
      "text/plain": [
       "['local_voice', 'local_volume', 'power']"
      ]
     },
     "execution_count": 14,
     "metadata": {},
     "output_type": "execute_result"
    }
   ],
   "source": [
    "labels"
   ]
  },
  {
   "cell_type": "code",
   "execution_count": 15,
   "metadata": {},
   "outputs": [
    {
     "name": "stdout",
     "output_type": "stream",
     "text": [
      "{'local_voice': 0, 'local_volume': 1, 'power': 2, 'anomaly': 3}\n"
     ]
    }
   ],
   "source": [
    "di ={}\n",
    "for i in range(len(labels)):\n",
    "    di.update({labels[i]:i})\n",
    "\n",
    "di.update({'anomaly':len(labels)})\n",
    "print(di)"
   ]
  },
  {
   "cell_type": "code",
   "execution_count": 16,
   "metadata": {},
   "outputs": [
    {
     "data": {
      "text/plain": [
       "Series([], Name: state, dtype: int64)"
      ]
     },
     "execution_count": 16,
     "metadata": {},
     "output_type": "execute_result"
    }
   ],
   "source": [
    "y_test = anomaly_data['state'].map(di)\n",
    "y_test.value_counts()"
   ]
  },
  {
   "cell_type": "code",
   "execution_count": 17,
   "metadata": {},
   "outputs": [],
   "source": [
    "y_test_bin_1d = y_test"
   ]
  },
  {
   "cell_type": "code",
   "execution_count": 18,
   "metadata": {},
   "outputs": [],
   "source": [
    "ss_knn = original_model['standard_scaler']\n",
    "pca = original_model['pca']\n",
    "trained_model = original_model['trained_model']"
   ]
  },
  {
   "cell_type": "code",
   "execution_count": 19,
   "metadata": {},
   "outputs": [],
   "source": [
    "unknown_data = ss_knn.transform(anomaly_data.drop(['state','device'], axis=1))\n",
    "unknown_data = pca.transform(unknown_data)\n",
    "unknown_data = pd.DataFrame(unknown_data)\n",
    "unknown_data = unknown_data.iloc[:, :4]\n",
    "y_predict = trained_model.predict(unknown_data)"
   ]
  },
  {
   "cell_type": "code",
   "execution_count": 16,
   "metadata": {},
   "outputs": [
    {
     "data": {
      "text/plain": [
       "array([[0, 0, 1],\n",
       "       [0, 0, 1],\n",
       "       [0, 0, 1],\n",
       "       [0, 0, 1],\n",
       "       [0, 0, 1],\n",
       "       [0, 0, 1],\n",
       "       [0, 0, 1],\n",
       "       [0, 0, 1],\n",
       "       [0, 0, 1],\n",
       "       [0, 0, 1],\n",
       "       [0, 0, 1],\n",
       "       [0, 0, 1],\n",
       "       [0, 0, 1],\n",
       "       [0, 0, 1],\n",
       "       [0, 0, 1],\n",
       "       [0, 0, 1],\n",
       "       [0, 0, 1],\n",
       "       [0, 0, 1],\n",
       "       [0, 0, 1],\n",
       "       [0, 0, 1],\n",
       "       [0, 0, 1],\n",
       "       [0, 0, 1],\n",
       "       [0, 0, 1],\n",
       "       [0, 0, 1],\n",
       "       [0, 0, 1],\n",
       "       [0, 0, 1],\n",
       "       [0, 0, 1],\n",
       "       [0, 0, 1],\n",
       "       [0, 0, 1],\n",
       "       [0, 0, 1],\n",
       "       [0, 0, 1],\n",
       "       [0, 0, 1],\n",
       "       [0, 0, 1],\n",
       "       [0, 0, 1],\n",
       "       [0, 0, 1],\n",
       "       [0, 0, 1],\n",
       "       [0, 0, 1],\n",
       "       [0, 0, 1],\n",
       "       [0, 0, 1],\n",
       "       [0, 0, 1],\n",
       "       [0, 0, 1],\n",
       "       [0, 0, 1],\n",
       "       [0, 0, 1],\n",
       "       [0, 0, 1],\n",
       "       [0, 0, 1],\n",
       "       [0, 0, 1],\n",
       "       [0, 0, 1],\n",
       "       [0, 0, 1],\n",
       "       [0, 0, 1],\n",
       "       [0, 0, 1],\n",
       "       [0, 0, 1],\n",
       "       [0, 0, 1],\n",
       "       [0, 0, 1],\n",
       "       [0, 0, 1],\n",
       "       [0, 0, 1],\n",
       "       [0, 0, 1],\n",
       "       [0, 0, 1],\n",
       "       [0, 0, 1],\n",
       "       [0, 0, 1],\n",
       "       [0, 0, 1],\n",
       "       [0, 0, 1],\n",
       "       [0, 0, 1],\n",
       "       [0, 0, 1],\n",
       "       [0, 0, 1],\n",
       "       [0, 0, 1],\n",
       "       [0, 0, 1],\n",
       "       [0, 0, 1],\n",
       "       [0, 0, 1],\n",
       "       [0, 0, 1],\n",
       "       [0, 0, 1],\n",
       "       [0, 0, 1],\n",
       "       [0, 0, 1],\n",
       "       [0, 0, 1],\n",
       "       [0, 0, 1],\n",
       "       [0, 0, 1],\n",
       "       [0, 0, 1],\n",
       "       [0, 0, 1],\n",
       "       [0, 0, 1],\n",
       "       [0, 0, 1],\n",
       "       [0, 0, 1],\n",
       "       [0, 0, 1],\n",
       "       [0, 0, 1],\n",
       "       [0, 0, 1],\n",
       "       [0, 0, 1],\n",
       "       [0, 0, 1],\n",
       "       [0, 0, 1],\n",
       "       [0, 0, 1],\n",
       "       [0, 0, 1],\n",
       "       [0, 0, 1],\n",
       "       [0, 0, 1],\n",
       "       [0, 0, 1],\n",
       "       [0, 0, 1],\n",
       "       [0, 0, 1],\n",
       "       [0, 0, 1],\n",
       "       [0, 0, 1],\n",
       "       [0, 0, 1],\n",
       "       [0, 0, 1],\n",
       "       [0, 0, 1],\n",
       "       [0, 0, 1],\n",
       "       [0, 0, 1],\n",
       "       [0, 0, 1],\n",
       "       [0, 0, 1],\n",
       "       [0, 0, 1],\n",
       "       [0, 0, 1],\n",
       "       [0, 0, 1],\n",
       "       [0, 0, 1],\n",
       "       [0, 0, 1],\n",
       "       [0, 0, 1],\n",
       "       [0, 0, 1],\n",
       "       [0, 0, 1],\n",
       "       [0, 0, 1],\n",
       "       [0, 0, 1],\n",
       "       [0, 0, 1],\n",
       "       [0, 0, 1],\n",
       "       [0, 0, 1],\n",
       "       [0, 0, 1],\n",
       "       [0, 0, 1],\n",
       "       [0, 0, 1],\n",
       "       [0, 0, 1],\n",
       "       [0, 0, 1],\n",
       "       [0, 0, 1],\n",
       "       [0, 0, 1],\n",
       "       [0, 0, 1],\n",
       "       [0, 0, 1],\n",
       "       [0, 0, 1],\n",
       "       [0, 0, 1],\n",
       "       [0, 0, 1],\n",
       "       [0, 0, 1],\n",
       "       [0, 0, 1],\n",
       "       [0, 0, 1],\n",
       "       [0, 0, 1],\n",
       "       [0, 0, 1],\n",
       "       [0, 0, 1],\n",
       "       [0, 0, 1],\n",
       "       [0, 0, 1],\n",
       "       [0, 0, 1],\n",
       "       [0, 0, 1],\n",
       "       [0, 0, 1],\n",
       "       [0, 0, 1],\n",
       "       [0, 0, 1],\n",
       "       [0, 0, 1],\n",
       "       [0, 0, 1],\n",
       "       [0, 0, 1],\n",
       "       [0, 0, 1],\n",
       "       [0, 0, 1],\n",
       "       [0, 0, 1],\n",
       "       [0, 0, 1],\n",
       "       [0, 0, 1],\n",
       "       [0, 0, 1],\n",
       "       [0, 0, 1],\n",
       "       [0, 0, 1],\n",
       "       [0, 0, 1],\n",
       "       [0, 0, 1],\n",
       "       [0, 0, 1],\n",
       "       [0, 0, 1],\n",
       "       [0, 0, 1],\n",
       "       [0, 0, 1],\n",
       "       [0, 0, 1],\n",
       "       [0, 0, 1],\n",
       "       [0, 0, 1],\n",
       "       [0, 0, 1],\n",
       "       [0, 0, 1],\n",
       "       [0, 0, 1],\n",
       "       [0, 0, 1],\n",
       "       [0, 0, 1],\n",
       "       [0, 0, 1],\n",
       "       [0, 0, 1],\n",
       "       [0, 0, 1],\n",
       "       [0, 0, 1],\n",
       "       [0, 0, 1],\n",
       "       [0, 0, 1],\n",
       "       [0, 0, 1],\n",
       "       [0, 0, 1],\n",
       "       [0, 0, 1],\n",
       "       [0, 0, 1],\n",
       "       [0, 0, 1],\n",
       "       [0, 0, 1],\n",
       "       [0, 0, 1],\n",
       "       [0, 0, 1],\n",
       "       [0, 0, 1],\n",
       "       [0, 0, 1],\n",
       "       [0, 0, 1],\n",
       "       [0, 0, 1],\n",
       "       [0, 0, 1],\n",
       "       [0, 0, 1],\n",
       "       [0, 0, 1],\n",
       "       [0, 0, 1],\n",
       "       [0, 0, 1],\n",
       "       [0, 0, 1],\n",
       "       [0, 0, 1]])"
      ]
     },
     "execution_count": 16,
     "metadata": {},
     "output_type": "execute_result"
    }
   ],
   "source": [
    "y_predict"
   ]
  },
  {
   "cell_type": "code",
   "execution_count": 17,
   "metadata": {},
   "outputs": [
    {
     "data": {
      "text/plain": [
       "{2}"
      ]
     },
     "execution_count": 17,
     "metadata": {},
     "output_type": "execute_result"
    }
   ],
   "source": [
    "y_predicted_1d = np.argmax(y_predict, axis=1)\n",
    "set(y_predicted_1d)"
   ]
  },
  {
   "cell_type": "code",
   "execution_count": 18,
   "metadata": {},
   "outputs": [
    {
     "data": {
      "text/markdown": [
       "## Building a combination of the new and the old model. \n"
      ],
      "text/plain": [
       "<IPython.core.display.Markdown object>"
      ]
     },
     "metadata": {},
     "output_type": "display_data"
    }
   ],
   "source": [
    "%%markdown\n",
    "## Building a combination of the new and the old model. "
   ]
  },
  {
   "cell_type": "code",
   "execution_count": 20,
   "metadata": {},
   "outputs": [],
   "source": [
    "multivariate_model_dict = pickle.load(open('/Users/abhijit/IOT_Project/intl-iot/timestep-model/anomaly_models/multivariate_model_google_mini.pkl','rb'))\n",
    "mv_model = multivariate_model_dict['mvmodel']               \n",
    "treshold = multivariate_model_dict['treshold']"
   ]
  },
  {
   "cell_type": "code",
   "execution_count": 21,
   "metadata": {},
   "outputs": [],
   "source": [
    "y_test = anomaly_data['state'].apply(lambda x: 1 if x == 'anomaly' else 0)"
   ]
  },
  {
   "cell_type": "code",
   "execution_count": 22,
   "metadata": {},
   "outputs": [
    {
     "data": {
      "text/html": [
       "<div>\n",
       "<style scoped>\n",
       "    .dataframe tbody tr th:only-of-type {\n",
       "        vertical-align: middle;\n",
       "    }\n",
       "\n",
       "    .dataframe tbody tr th {\n",
       "        vertical-align: top;\n",
       "    }\n",
       "\n",
       "    .dataframe thead th {\n",
       "        text-align: right;\n",
       "    }\n",
       "</style>\n",
       "<table border=\"1\" class=\"dataframe\">\n",
       "  <thead>\n",
       "    <tr style=\"text-align: right;\">\n",
       "      <th></th>\n",
       "      <th>start_time</th>\n",
       "      <th>end_time</th>\n",
       "      <th>meanBytes</th>\n",
       "      <th>minBytes</th>\n",
       "      <th>maxBytes</th>\n",
       "      <th>medAbsDev</th>\n",
       "      <th>skewLength</th>\n",
       "      <th>kurtosisLength</th>\n",
       "      <th>q10</th>\n",
       "      <th>q20</th>\n",
       "      <th>...</th>\n",
       "      <th>kurtosisTBP</th>\n",
       "      <th>skewTBP</th>\n",
       "      <th>network_to</th>\n",
       "      <th>network_from</th>\n",
       "      <th>network_both</th>\n",
       "      <th>network_to_external</th>\n",
       "      <th>network_local</th>\n",
       "      <th>anonymous_source_destination</th>\n",
       "      <th>device</th>\n",
       "      <th>state</th>\n",
       "    </tr>\n",
       "  </thead>\n",
       "  <tbody>\n",
       "    <tr>\n",
       "      <td>0</td>\n",
       "      <td>1.556962e+09</td>\n",
       "      <td>1.556962e+09</td>\n",
       "      <td>125.563636</td>\n",
       "      <td>62</td>\n",
       "      <td>1392</td>\n",
       "      <td>0.0</td>\n",
       "      <td>4.707986</td>\n",
       "      <td>20.767526</td>\n",
       "      <td>62.0</td>\n",
       "      <td>62.0</td>\n",
       "      <td>...</td>\n",
       "      <td>1.194123</td>\n",
       "      <td>1.502090</td>\n",
       "      <td>0</td>\n",
       "      <td>0</td>\n",
       "      <td>0</td>\n",
       "      <td>55</td>\n",
       "      <td>0</td>\n",
       "      <td>0</td>\n",
       "      <td>google-home</td>\n",
       "      <td>untagged</td>\n",
       "    </tr>\n",
       "    <tr>\n",
       "      <td>1</td>\n",
       "      <td>1.556962e+09</td>\n",
       "      <td>1.556962e+09</td>\n",
       "      <td>137.309091</td>\n",
       "      <td>62</td>\n",
       "      <td>1392</td>\n",
       "      <td>0.0</td>\n",
       "      <td>4.362256</td>\n",
       "      <td>18.310439</td>\n",
       "      <td>62.0</td>\n",
       "      <td>62.0</td>\n",
       "      <td>...</td>\n",
       "      <td>-0.831639</td>\n",
       "      <td>0.996802</td>\n",
       "      <td>0</td>\n",
       "      <td>0</td>\n",
       "      <td>0</td>\n",
       "      <td>55</td>\n",
       "      <td>0</td>\n",
       "      <td>0</td>\n",
       "      <td>google-home</td>\n",
       "      <td>untagged</td>\n",
       "    </tr>\n",
       "    <tr>\n",
       "      <td>2</td>\n",
       "      <td>1.556962e+09</td>\n",
       "      <td>1.556962e+09</td>\n",
       "      <td>122.872727</td>\n",
       "      <td>62</td>\n",
       "      <td>1392</td>\n",
       "      <td>0.0</td>\n",
       "      <td>4.719852</td>\n",
       "      <td>20.838333</td>\n",
       "      <td>62.0</td>\n",
       "      <td>62.0</td>\n",
       "      <td>...</td>\n",
       "      <td>1.894644</td>\n",
       "      <td>1.645333</td>\n",
       "      <td>0</td>\n",
       "      <td>0</td>\n",
       "      <td>0</td>\n",
       "      <td>55</td>\n",
       "      <td>0</td>\n",
       "      <td>0</td>\n",
       "      <td>google-home</td>\n",
       "      <td>untagged</td>\n",
       "    </tr>\n",
       "    <tr>\n",
       "      <td>3</td>\n",
       "      <td>1.556962e+09</td>\n",
       "      <td>1.556962e+09</td>\n",
       "      <td>78.127273</td>\n",
       "      <td>62</td>\n",
       "      <td>399</td>\n",
       "      <td>0.0</td>\n",
       "      <td>5.915062</td>\n",
       "      <td>37.423849</td>\n",
       "      <td>62.0</td>\n",
       "      <td>62.0</td>\n",
       "      <td>...</td>\n",
       "      <td>-0.860301</td>\n",
       "      <td>0.946906</td>\n",
       "      <td>0</td>\n",
       "      <td>0</td>\n",
       "      <td>0</td>\n",
       "      <td>55</td>\n",
       "      <td>0</td>\n",
       "      <td>0</td>\n",
       "      <td>google-home</td>\n",
       "      <td>untagged</td>\n",
       "    </tr>\n",
       "    <tr>\n",
       "      <td>4</td>\n",
       "      <td>1.556962e+09</td>\n",
       "      <td>1.556962e+09</td>\n",
       "      <td>94.000000</td>\n",
       "      <td>62</td>\n",
       "      <td>1392</td>\n",
       "      <td>0.0</td>\n",
       "      <td>7.146254</td>\n",
       "      <td>49.388759</td>\n",
       "      <td>62.0</td>\n",
       "      <td>62.0</td>\n",
       "      <td>...</td>\n",
       "      <td>-0.804645</td>\n",
       "      <td>0.962815</td>\n",
       "      <td>0</td>\n",
       "      <td>0</td>\n",
       "      <td>0</td>\n",
       "      <td>55</td>\n",
       "      <td>0</td>\n",
       "      <td>0</td>\n",
       "      <td>google-home</td>\n",
       "      <td>untagged</td>\n",
       "    </tr>\n",
       "  </tbody>\n",
       "</table>\n",
       "<p>5 rows × 31 columns</p>\n",
       "</div>"
      ],
      "text/plain": [
       "     start_time      end_time   meanBytes  minBytes  maxBytes  medAbsDev  \\\n",
       "0  1.556962e+09  1.556962e+09  125.563636        62      1392        0.0   \n",
       "1  1.556962e+09  1.556962e+09  137.309091        62      1392        0.0   \n",
       "2  1.556962e+09  1.556962e+09  122.872727        62      1392        0.0   \n",
       "3  1.556962e+09  1.556962e+09   78.127273        62       399        0.0   \n",
       "4  1.556962e+09  1.556962e+09   94.000000        62      1392        0.0   \n",
       "\n",
       "   skewLength  kurtosisLength   q10   q20  ...  kurtosisTBP   skewTBP  \\\n",
       "0    4.707986       20.767526  62.0  62.0  ...     1.194123  1.502090   \n",
       "1    4.362256       18.310439  62.0  62.0  ...    -0.831639  0.996802   \n",
       "2    4.719852       20.838333  62.0  62.0  ...     1.894644  1.645333   \n",
       "3    5.915062       37.423849  62.0  62.0  ...    -0.860301  0.946906   \n",
       "4    7.146254       49.388759  62.0  62.0  ...    -0.804645  0.962815   \n",
       "\n",
       "   network_to  network_from  network_both  network_to_external  network_local  \\\n",
       "0           0             0             0                   55              0   \n",
       "1           0             0             0                   55              0   \n",
       "2           0             0             0                   55              0   \n",
       "3           0             0             0                   55              0   \n",
       "4           0             0             0                   55              0   \n",
       "\n",
       "   anonymous_source_destination       device     state  \n",
       "0                             0  google-home  untagged  \n",
       "1                             0  google-home  untagged  \n",
       "2                             0  google-home  untagged  \n",
       "3                             0  google-home  untagged  \n",
       "4                             0  google-home  untagged  \n",
       "\n",
       "[5 rows x 31 columns]"
      ]
     },
     "execution_count": 22,
     "metadata": {},
     "output_type": "execute_result"
    }
   ],
   "source": [
    "anomaly_data.head()"
   ]
  },
  {
   "cell_type": "code",
   "execution_count": 23,
   "metadata": {},
   "outputs": [],
   "source": [
    "y_predict = (mv_model.logpdf(anomaly_data.drop(['device','state'], axis=1).values) < treshold).astype(int)"
   ]
  },
  {
   "cell_type": "code",
   "execution_count": 24,
   "metadata": {},
   "outputs": [
    {
     "data": {
      "text/plain": [
       "{0, 1}"
      ]
     },
     "execution_count": 24,
     "metadata": {},
     "output_type": "execute_result"
    }
   ],
   "source": [
    "set(y_predict)"
   ]
  },
  {
   "cell_type": "code",
   "execution_count": 25,
   "metadata": {},
   "outputs": [
    {
     "name": "stderr",
     "output_type": "stream",
     "text": [
      "/Users/abhijit/miniconda3/lib/python3.7/site-packages/sklearn/metrics/classification.py:1439: UndefinedMetricWarning: Recall is ill-defined and being set to 0.0 in labels with no true samples.\n",
      "  'recall', 'true', average, warn_for)\n",
      "/Users/abhijit/miniconda3/lib/python3.7/site-packages/sklearn/metrics/classification.py:1439: UndefinedMetricWarning: F-score is ill-defined and being set to 0.0 in labels with no true samples.\n",
      "  'recall', 'true', average, warn_for)\n"
     ]
    }
   ],
   "source": [
    "recall = recall_score(y_pred=y_predict, y_true=y_test,average='weighted')\n",
    "precision = precision_score(y_pred=y_predict, y_true=y_test,average='weighted')\n",
    "f2 = fbeta_score(y_pred=y_predict, y_true=y_test,average='weighted',beta=2)\n",
    "f1 = f1_score(y_pred=y_predict, y_true=y_test,average='weighted')"
   ]
  },
  {
   "cell_type": "code",
   "execution_count": 26,
   "metadata": {},
   "outputs": [
    {
     "data": {
      "text/plain": [
       "0.0006618381618381619"
      ]
     },
     "execution_count": 26,
     "metadata": {},
     "output_type": "execute_result"
    }
   ],
   "source": [
    "_acc_score = accuracy_score(y_test, y_predict)\n",
    "_acc_score"
   ]
  },
  {
   "cell_type": "code",
   "execution_count": 31,
   "metadata": {},
   "outputs": [
    {
     "name": "stdout",
     "output_type": "stream",
     "text": [
      "[[241   7]\n",
      " [  0 200]]\n"
     ]
    }
   ],
   "source": [
    "cm = confusion_matrix(y_test, y_predict)\n",
    "print(cm)"
   ]
  },
  {
   "cell_type": "code",
   "execution_count": 32,
   "metadata": {
    "scrolled": true
   },
   "outputs": [
    {
     "data": {
      "image/png": "[encoded data removed]",
      "text/plain": [
       "<Figure size 432x288 with 2 Axes>"
      ]
     },
     "metadata": {},
     "output_type": "display_data"
    }
   ],
   "source": [
    "plot_confusion_matrix(cm, classes=['Normal','Anomalous'],\n",
    "                      recall=recall,precision=precision,f2 = f2,f1=f1, title='Confusion matrix')"
   ]
  },
  {
   "cell_type": "code",
   "execution_count": 33,
   "metadata": {},
   "outputs": [
    {
     "data": {
      "text/html": [
       "<div>\n",
       "<style scoped>\n",
       "    .dataframe tbody tr th:only-of-type {\n",
       "        vertical-align: middle;\n",
       "    }\n",
       "\n",
       "    .dataframe tbody tr th {\n",
       "        vertical-align: top;\n",
       "    }\n",
       "\n",
       "    .dataframe thead th {\n",
       "        text-align: right;\n",
       "    }\n",
       "</style>\n",
       "<table border=\"1\" class=\"dataframe\">\n",
       "  <thead>\n",
       "    <tr style=\"text-align: right;\">\n",
       "      <th></th>\n",
       "      <th>meanBytes</th>\n",
       "      <th>minBytes</th>\n",
       "      <th>maxBytes</th>\n",
       "      <th>medAbsDev</th>\n",
       "      <th>skewLength</th>\n",
       "      <th>kurtosisLength</th>\n",
       "      <th>q10</th>\n",
       "      <th>q20</th>\n",
       "      <th>q30</th>\n",
       "      <th>q40</th>\n",
       "      <th>...</th>\n",
       "      <th>kurtosisTBP</th>\n",
       "      <th>skewTBP</th>\n",
       "      <th>network_to</th>\n",
       "      <th>network_from</th>\n",
       "      <th>network_both</th>\n",
       "      <th>network_to_external</th>\n",
       "      <th>network_local</th>\n",
       "      <th>anonymous_source_destination</th>\n",
       "      <th>state</th>\n",
       "      <th>anomalous</th>\n",
       "    </tr>\n",
       "  </thead>\n",
       "  <tbody>\n",
       "    <tr>\n",
       "      <th>0</th>\n",
       "      <td>167.535211</td>\n",
       "      <td>46</td>\n",
       "      <td>1074</td>\n",
       "      <td>35.582453</td>\n",
       "      <td>2.828830</td>\n",
       "      <td>6.599962</td>\n",
       "      <td>46.0</td>\n",
       "      <td>46.0</td>\n",
       "      <td>46.0</td>\n",
       "      <td>58.0</td>\n",
       "      <td>...</td>\n",
       "      <td>294.352427</td>\n",
       "      <td>16.653879</td>\n",
       "      <td>284</td>\n",
       "      <td>769</td>\n",
       "      <td>0</td>\n",
       "      <td>0</td>\n",
       "      <td>12</td>\n",
       "      <td>0</td>\n",
       "      <td>android_wan_watch</td>\n",
       "      <td>0</td>\n",
       "    </tr>\n",
       "    <tr>\n",
       "      <th>2</th>\n",
       "      <td>557.774849</td>\n",
       "      <td>46</td>\n",
       "      <td>1074</td>\n",
       "      <td>717.579474</td>\n",
       "      <td>0.006086</td>\n",
       "      <td>-1.864808</td>\n",
       "      <td>46.0</td>\n",
       "      <td>46.0</td>\n",
       "      <td>54.0</td>\n",
       "      <td>102.0</td>\n",
       "      <td>...</td>\n",
       "      <td>99.797854</td>\n",
       "      <td>8.426359</td>\n",
       "      <td>287</td>\n",
       "      <td>1029</td>\n",
       "      <td>12</td>\n",
       "      <td>0</td>\n",
       "      <td>0</td>\n",
       "      <td>0</td>\n",
       "      <td>android_lan_watch</td>\n",
       "      <td>0</td>\n",
       "    </tr>\n",
       "    <tr>\n",
       "      <th>4</th>\n",
       "      <td>451.009418</td>\n",
       "      <td>46</td>\n",
       "      <td>1074</td>\n",
       "      <td>38.547658</td>\n",
       "      <td>0.417756</td>\n",
       "      <td>-1.675003</td>\n",
       "      <td>46.0</td>\n",
       "      <td>46.0</td>\n",
       "      <td>46.0</td>\n",
       "      <td>54.0</td>\n",
       "      <td>...</td>\n",
       "      <td>71.564209</td>\n",
       "      <td>7.576815</td>\n",
       "      <td>308</td>\n",
       "      <td>846</td>\n",
       "      <td>14</td>\n",
       "      <td>0</td>\n",
       "      <td>0</td>\n",
       "      <td>0</td>\n",
       "      <td>android_lan_watch</td>\n",
       "      <td>0</td>\n",
       "    </tr>\n",
       "    <tr>\n",
       "      <th>5</th>\n",
       "      <td>151.687500</td>\n",
       "      <td>46</td>\n",
       "      <td>1074</td>\n",
       "      <td>35.582453</td>\n",
       "      <td>3.256768</td>\n",
       "      <td>9.958463</td>\n",
       "      <td>46.0</td>\n",
       "      <td>46.0</td>\n",
       "      <td>46.0</td>\n",
       "      <td>56.0</td>\n",
       "      <td>...</td>\n",
       "      <td>82.069233</td>\n",
       "      <td>6.932642</td>\n",
       "      <td>465</td>\n",
       "      <td>1034</td>\n",
       "      <td>0</td>\n",
       "      <td>0</td>\n",
       "      <td>5</td>\n",
       "      <td>0</td>\n",
       "      <td>android_wan_recording</td>\n",
       "      <td>0</td>\n",
       "    </tr>\n",
       "    <tr>\n",
       "      <th>7</th>\n",
       "      <td>143.101254</td>\n",
       "      <td>46</td>\n",
       "      <td>1074</td>\n",
       "      <td>35.582453</td>\n",
       "      <td>3.383325</td>\n",
       "      <td>10.350989</td>\n",
       "      <td>46.0</td>\n",
       "      <td>46.0</td>\n",
       "      <td>46.0</td>\n",
       "      <td>58.0</td>\n",
       "      <td>...</td>\n",
       "      <td>646.172005</td>\n",
       "      <td>23.207788</td>\n",
       "      <td>307</td>\n",
       "      <td>726</td>\n",
       "      <td>0</td>\n",
       "      <td>0</td>\n",
       "      <td>4</td>\n",
       "      <td>0</td>\n",
       "      <td>android_wan_watch</td>\n",
       "      <td>0</td>\n",
       "    </tr>\n",
       "  </tbody>\n",
       "</table>\n",
       "<p>5 rows × 29 columns</p>\n",
       "</div>"
      ],
      "text/plain": [
       "    meanBytes  minBytes  maxBytes   medAbsDev  skewLength  kurtosisLength  \\\n",
       "0  167.535211        46      1074   35.582453    2.828830        6.599962   \n",
       "2  557.774849        46      1074  717.579474    0.006086       -1.864808   \n",
       "4  451.009418        46      1074   38.547658    0.417756       -1.675003   \n",
       "5  151.687500        46      1074   35.582453    3.256768        9.958463   \n",
       "7  143.101254        46      1074   35.582453    3.383325       10.350989   \n",
       "\n",
       "    q10   q20   q30    q40  ...  kurtosisTBP    skewTBP  network_to  \\\n",
       "0  46.0  46.0  46.0   58.0  ...   294.352427  16.653879         284   \n",
       "2  46.0  46.0  54.0  102.0  ...    99.797854   8.426359         287   \n",
       "4  46.0  46.0  46.0   54.0  ...    71.564209   7.576815         308   \n",
       "5  46.0  46.0  46.0   56.0  ...    82.069233   6.932642         465   \n",
       "7  46.0  46.0  46.0   58.0  ...   646.172005  23.207788         307   \n",
       "\n",
       "   network_from  network_both  network_to_external  network_local  \\\n",
       "0           769             0                    0             12   \n",
       "2          1029            12                    0              0   \n",
       "4           846            14                    0              0   \n",
       "5          1034             0                    0              5   \n",
       "7           726             0                    0              4   \n",
       "\n",
       "   anonymous_source_destination                  state  anomalous  \n",
       "0                             0      android_wan_watch          0  \n",
       "2                             0      android_lan_watch          0  \n",
       "4                             0      android_lan_watch          0  \n",
       "5                             0  android_wan_recording          0  \n",
       "7                             0      android_wan_watch          0  \n",
       "\n",
       "[5 rows x 29 columns]"
      ]
     },
     "execution_count": 33,
     "metadata": {},
     "output_type": "execute_result"
    }
   ],
   "source": [
    "new_data = anomaly_data\n",
    "new_data['anomalous'] = y_predict\n",
    "normal_data = new_data[new_data['anomalous'] == 0]\n",
    "anomalous_data = new_data[new_data['anomalous'] == 1]\n",
    "normal_data.head()"
   ]
  },
  {
   "cell_type": "code",
   "execution_count": 34,
   "metadata": {},
   "outputs": [
    {
     "name": "stderr",
     "output_type": "stream",
     "text": [
      "/usr/local/lib/python3.7/site-packages/ipykernel_launcher.py:1: DataConversionWarning: Data with input dtype int64, float64 were all converted to float64 by StandardScaler.\n",
      "  \"\"\"Entry point for launching an IPython kernel.\n"
     ]
    }
   ],
   "source": [
    "unknown_data = ss_knn.transform(normal_data.drop(['state','anomalous'], axis=1))\n",
    "unknown_data = pca.transform(unknown_data)\n",
    "unknown_data = pd.DataFrame(unknown_data)\n",
    "unknown_data = unknown_data.iloc[:, :4]\n",
    "y_predict = trained_model.predict(unknown_data)\n",
    "y_predicted_1d = np.argmax(y_predict, axis=1)"
   ]
  },
  {
   "cell_type": "code",
   "execution_count": 35,
   "metadata": {},
   "outputs": [
    {
     "name": "stderr",
     "output_type": "stream",
     "text": [
      "/usr/local/lib/python3.7/site-packages/ipykernel_launcher.py:1: SettingWithCopyWarning: \n",
      "A value is trying to be set on a copy of a slice from a DataFrame.\n",
      "Try using .loc[row_indexer,col_indexer] = value instead\n",
      "\n",
      "See the caveats in the documentation: http://pandas.pydata.org/pandas-docs/stable/indexing.html#indexing-view-versus-copy\n",
      "  \"\"\"Entry point for launching an IPython kernel.\n",
      "/usr/local/lib/python3.7/site-packages/ipykernel_launcher.py:2: SettingWithCopyWarning: \n",
      "A value is trying to be set on a copy of a slice from a DataFrame.\n",
      "Try using .loc[row_indexer,col_indexer] = value instead\n",
      "\n",
      "See the caveats in the documentation: http://pandas.pydata.org/pandas-docs/stable/indexing.html#indexing-view-versus-copy\n",
      "  \n"
     ]
    }
   ],
   "source": [
    "normal_data['predictions'] = y_predicted_1d\n",
    "anomalous_data['predictions'] = 8"
   ]
  },
  {
   "cell_type": "code",
   "execution_count": 36,
   "metadata": {},
   "outputs": [],
   "source": [
    "final_data = normal_data.append(anomalous_data).sort_index()"
   ]
  },
  {
   "cell_type": "code",
   "execution_count": 37,
   "metadata": {},
   "outputs": [],
   "source": [
    "y_test = final_data['state'].map(di)\n",
    "y_predict = final_data['predictions']"
   ]
  },
  {
   "cell_type": "code",
   "execution_count": 38,
   "metadata": {},
   "outputs": [
    {
     "name": "stderr",
     "output_type": "stream",
     "text": [
      "/usr/local/lib/python3.7/site-packages/sklearn/metrics/classification.py:1143: UndefinedMetricWarning: Precision is ill-defined and being set to 0.0 in labels with no predicted samples.\n",
      "  'precision', 'predicted', average, warn_for)\n",
      "/usr/local/lib/python3.7/site-packages/sklearn/metrics/classification.py:1143: UndefinedMetricWarning: F-score is ill-defined and being set to 0.0 in labels with no predicted samples.\n",
      "  'precision', 'predicted', average, warn_for)\n"
     ]
    }
   ],
   "source": [
    "recall = recall_score(y_pred=y_predict, y_true=y_test,average='weighted')\n",
    "precision = precision_score(y_pred=y_predict, y_true=y_test,average='weighted')\n",
    "f2 = fbeta_score(y_pred=y_predict, y_true=y_test,average='weighted',beta=2)\n",
    "f1 = f1_score(y_pred=y_predict, y_true=y_test,average='weighted')"
   ]
  },
  {
   "cell_type": "code",
   "execution_count": 39,
   "metadata": {},
   "outputs": [
    {
     "data": {
      "text/plain": [
       "0.9620535714285714"
      ]
     },
     "execution_count": 39,
     "metadata": {},
     "output_type": "execute_result"
    }
   ],
   "source": [
    "_acc_score = accuracy_score(y_test, y_predict)\n",
    "_acc_score"
   ]
  },
  {
   "cell_type": "code",
   "execution_count": 40,
   "metadata": {},
   "outputs": [
    {
     "name": "stdout",
     "output_type": "stream",
     "text": [
      "[[ 44   3   0   0   0   0   0   0   1]\n",
      " [  4  31   0   0   0   0   0   0   1]\n",
      " [  0   0  32   0   0   0   0   0   0]\n",
      " [  2   0   0  43   0   0   0   0   0]\n",
      " [  0   0   0   0  34   0   0   0   0]\n",
      " [  0   0   0   1   0  47   0   0   0]\n",
      " [  0   0   0   0   0   0   0   0   4]\n",
      " [  0   0   0   0   0   0   0   0   1]\n",
      " [  0   0   0   0   0   0   0   0 200]]\n"
     ]
    }
   ],
   "source": [
    "cm = confusion_matrix(y_test, y_predict)\n",
    "print(cm)"
   ]
  },
  {
   "cell_type": "code",
   "execution_count": 41,
   "metadata": {
    "scrolled": true
   },
   "outputs": [
    {
     "data": {
      "image/png": "[encoded data removed]",
      "text/plain": [
       "<Figure size 432x288 with 2 Axes>"
      ]
     },
     "metadata": {},
     "output_type": "display_data"
    }
   ],
   "source": [
    "plot_confusion_matrix(cm, classes=list(di.keys()),\n",
    "                      recall=recall,precision=precision,f2 = f2,f1=f1, title='Confusion matrix')"
   ]
  },
  {
   "cell_type": "code",
   "execution_count": 43,
   "metadata": {},
   "outputs": [
    {
     "data": {
      "text/plain": [
       "8"
      ]
     },
     "execution_count": 43,
     "metadata": {},
     "output_type": "execute_result"
    }
   ],
   "source": [
    "di['anomaly']"
   ]
  },
  {
   "cell_type": "code",
   "execution_count": null,
   "metadata": {},
   "outputs": [],
   "source": []
  }
 ],
 "metadata": {
  "kernelspec": {
   "display_name": "Python 3",
   "language": "python",
   "name": "python3"
  },
  "language_info": {
   "codemirror_mode": {
    "name": "ipython",
    "version": 3
   },
   "file_extension": ".py",
   "mimetype": "text/x-python",
   "name": "python",
   "nbconvert_exporter": "python",
   "pygments_lexer": "ipython3",
   "version": "3.7.6"
  }
 },
 "nbformat": 4,
 "nbformat_minor": 4
}
